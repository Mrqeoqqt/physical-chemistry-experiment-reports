{
 "cells": [
  {
   "cell_type": "code",
   "execution_count": 1,
   "metadata": {},
   "outputs": [],
   "source": [
    "import numpy as np\n",
    "from scipy import optimize\n",
    "import matplotlib.pyplot as plt"
   ]
  },
  {
   "cell_type": "code",
   "execution_count": 62,
   "metadata": {},
   "outputs": [],
   "source": [
    "T = np.array([200,\n",
    "210,\n",
    "220,\n",
    "230,\n",
    "240,\n",
    "])\n",
    "kT = np.array([45.801, \n",
    "86.849,\n",
    "139.292, \n",
    "212.578, \n",
    "261.688, \n",
    "])\n",
    "\n",
    "s1 = np.array([1.393, \n",
    "2.205, \n",
    "4.184, \n",
    "7.511, \n",
    "11.074, \n",
    "])\n",
    "\n",
    "s2 = np.array([98.552, \n",
    "97.795, \n",
    "95.775, \n",
    "92.400, \n",
    "88.811, \n",
    "])\n"
   ]
  },
  {
   "cell_type": "code",
   "execution_count": 63,
   "metadata": {},
   "outputs": [
    {
     "name": "stdout",
     "output_type": "stream",
     "text": [
      "[0.00211349 0.00206975 0.00202778 0.00198748 0.00194875]\n",
      "[-4.54374913 -3.44461626 -2.33167457 -1.32383716 -0.72776178]\n",
      "[-0.2846245   0.34752968  0.79905939  1.18592121  1.35414872]\n"
     ]
    }
   ],
   "source": [
    "T = 1/(T+273.15)\n",
    "kT1 = np.log(kT*s1/100/60)\n",
    "kT2 = np.log(kT*s2/100/60)\n",
    "print(T)\n",
    "print(kT1)\n",
    "print(kT2)"
   ]
  },
  {
   "cell_type": "code",
   "execution_count": 64,
   "metadata": {},
   "outputs": [
    {
     "name": "stdout",
     "output_type": "stream",
     "text": [
      "(array([-10038.9060443 ,     21.05387012]), array([[ 1.09903228e+06, -2.23043166e+03],\n",
      "       [-2.23043166e+03,  4.53027972e+00]]))\n"
     ]
    }
   ],
   "source": [
    "#直线拟合\n",
    "def linear_func(X, A, B):\n",
    "    return A*X + B\n",
    "\n",
    "result = optimize.curve_fit(linear_func, T, kT2)\n",
    "print(result)"
   ]
  },
  {
   "cell_type": "code",
   "execution_count": 65,
   "metadata": {},
   "outputs": [
    {
     "name": "stdout",
     "output_type": "stream",
     "text": [
      "-10038.906044302395 21.053870124552244\n"
     ]
    }
   ],
   "source": [
    "A, B = result[0]\n",
    "x1 = np.arange(1/(250+273.15), 1/(190+273.15), 1/273.15*10**(-3))\n",
    "y1 = A*x1 + B\n",
    "print(A, B)"
   ]
  },
  {
   "cell_type": "code",
   "execution_count": 66,
   "metadata": {},
   "outputs": [
    {
     "data": {
      "image/png": "[encoded data removed]",
      "text/plain": [
       "<Figure size 720x576 with 1 Axes>"
      ]
     },
     "metadata": {
      "needs_background": "light"
     },
     "output_type": "display_data"
    }
   ],
   "source": [
    "## plot\n",
    "plt.figure(figsize=(10, 8))\n",
    "plt.scatter(T, kT2, alpha = 0.75, label = 'experimental')\n",
    "plt.plot(x1, y1, \"-r\", label = 'fitting curve')\n",
    "plt.legend()\n",
    "plt.xlim([1/(255+273.15), 1/(185+273.15)])\n",
    "plt.xlabel(r'$\\frac{1}{T}/K^{-1}$', fontsize = 20)\n",
    "plt.ylabel(r'$\\ln(k_{T2})/\\lns^{-1}$', fontsize = 20)\n",
    "plt.savefig(r'C:\\Users\\xym\\Desktop\\experiment.png', dpi = 600)\n",
    "plt.show()"
   ]
  },
  {
   "cell_type": "code",
   "execution_count": 60,
   "metadata": {},
   "outputs": [],
   "source": [
    "## R^2\n",
    "def R_squared(Y, Y_hat):\n",
    "    y_bar = np.mean(Y)\n",
    "    SSR = np.sum(np.square(Y_hat - y_bar))\n",
    "    SST = np.sum(np.square(Y - y_bar))\n",
    "    return SSR/SST"
   ]
  },
  {
   "cell_type": "code",
   "execution_count": 61,
   "metadata": {},
   "outputs": [
    {
     "name": "stdout",
     "output_type": "stream",
     "text": [
      "0.9683204955392649\n"
     ]
    }
   ],
   "source": [
    "Y_hat = A*T+B\n",
    "print(R_squared(kT2, Y_hat))"
   ]
  },
  {
   "cell_type": "code",
   "execution_count": null,
   "metadata": {},
   "outputs": [],
   "source": []
  }
 ],
 "metadata": {
  "kernelspec": {
   "display_name": "Python 3",
   "language": "python",
   "name": "python3"
  },
  "language_info": {
   "codemirror_mode": {
    "name": "ipython",
    "version": 3
   },
   "file_extension": ".py",
   "mimetype": "text/x-python",
   "name": "python",
   "nbconvert_exporter": "python",
   "pygments_lexer": "ipython3",
   "version": "3.7.1"
  }
 },
 "nbformat": 4,
 "nbformat_minor": 2
}
