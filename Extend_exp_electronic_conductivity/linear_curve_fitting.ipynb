{
 "cells": [
  {
   "cell_type": "code",
   "execution_count": 2,
   "metadata": {},
   "outputs": [],
   "source": [
    "import numpy as np\n",
    "from scipy import optimize\n",
    "import matplotlib.pyplot as plt"
   ]
  },
  {
   "cell_type": "code",
   "execution_count": 3,
   "metadata": {},
   "outputs": [
    {
     "name": "stdout",
     "output_type": "stream",
     "text": [
      "[4.94386073e-07 5.60152274e-07 6.01340179e-07 6.30023975e-07\n",
      " 6.04307308e-07 6.36092740e-07 6.56301900e-07 6.27644373e-07\n",
      " 6.27656796e-07 6.47110001e-07 6.47122627e-07 6.24670009e-07\n",
      " 6.18668446e-07 6.14489515e-07 6.30111126e-07]\n"
     ]
    }
   ],
   "source": [
    "T1 = np.array([36.8 ,\n",
    "35.0 ,\n",
    "34.9 ,\n",
    "33.2 ,\n",
    "33.1 ,\n",
    "31.5 ,\n",
    "29.5 ,\n",
    "27.8 ,\n",
    "25.9 ,\n",
    "25.4 ,\n",
    "23.5 ,\n",
    "22.0 ,\n",
    "21.8 ,\n",
    "20.9 ,\n",
    "19.9 ,\n",
    "])\n",
    "\n",
    "AgCl = np.array([4.29 ,\n",
    "4.22 ,\n",
    "4.25 ,\n",
    "4.15 ,\n",
    "4.12 ,\n",
    "4.03 ,\n",
    "3.90 ,\n",
    "3.75 ,\n",
    "3.61 ,\n",
    "3.59 ,\n",
    "3.45 ,\n",
    "3.32 ,\n",
    "3.30 ,\n",
    "3.23 ,\n",
    "3.17 ,\n",
    "])\n",
    "\n",
    "AgCl = np.array([0.97214191, 1.03478376, 1.07215275, 1.09742561, 1.0747946 ,\n",
    "       1.10269847, 1.1200783 , 1.09535116, 1.095362  , 1.11220696,\n",
    "       1.11221781, 1.09275268, 1.08749066, 1.08381159, 1.09750151])\n",
    "print((AgCl/(61.92+76.34)/10)**2)\n",
    "AgCl = np.log(AgCl/(61.92+76.34)/1000)\n",
    "\n",
    "T2 = np.array([20.0 ,\n",
    "23.2 ,\n",
    "24.0 ,\n",
    "28.4 ,\n",
    "33.3 ,\n",
    "38.2 ,\n",
    "])\n",
    "\n",
    "H2O = np.array([2.09 ,\n",
    "2.34 ,\n",
    "2.38 ,\n",
    "2.67 ,\n",
    "2.99 ,\n",
    "3.48 ,   \n",
    "])\n",
    "\n",
    "T1 = T1+273.15\n",
    "T2 = T2+273.15"
   ]
  },
  {
   "cell_type": "code",
   "execution_count": 10,
   "metadata": {},
   "outputs": [
    {
     "name": "stdout",
     "output_type": "stream",
     "text": [
      "(array([ -9.79051908, -11.71107771]), array([[ 4.81093040e+03, -1.60745490e+01],\n",
      "       [-1.60745490e+01,  5.37216261e-02]]))\n"
     ]
    }
   ],
   "source": [
    "#直线拟合\n",
    "def linear_func(X, A, B):\n",
    "    return A*X + B\n",
    "\n",
    "result = optimize.curve_fit(linear_func, 1/(T1[3:]), AgCl[3:])\n",
    "print(result)"
   ]
  },
  {
   "cell_type": "code",
   "execution_count": 11,
   "metadata": {},
   "outputs": [
    {
     "name": "stdout",
     "output_type": "stream",
     "text": [
      "-9.790519081184575 -11.71107771387298\n"
     ]
    }
   ],
   "source": [
    "A, B = result[0]\n",
    "x1 = np.arange(1/(35+273.15), 1/(18+273.15), 32**(-3))\n",
    "y1 = A*x1 + B\n",
    "print(A, B)"
   ]
  },
  {
   "cell_type": "code",
   "execution_count": 14,
   "metadata": {
    "scrolled": false
   },
   "outputs": [
    {
     "data": {
      "image/png": "[encoded data removed]",
      "text/plain": [
       "<Figure size 720x576 with 1 Axes>"
      ]
     },
     "metadata": {
      "needs_background": "light"
     },
     "output_type": "display_data"
    }
   ],
   "source": [
    "## plot\n",
    "plt.figure(figsize=(10, 8))\n",
    "plt.scatter(1/(T1[:3]), AgCl[:3])\n",
    "plt.plot(1/(T1[3:]), AgCl[3:], 'm^', markersize = 5.0, label = 'experimental')\n",
    "plt.plot(x1, y1, \"-r\", label = 'fitting curve')\n",
    "plt.legend()\n",
    "plt.xlim([1/(45+273.15), 1/(15+273.15)])\n",
    "plt.xlabel(r'$1/T$', fontsize = 20)\n",
    "plt.ylabel(r'$\\ln(c_{AgCl}/c^{\\theta}$', fontsize = 20)\n",
    "plt.savefig(r'C:\\Users\\xym\\Desktop\\experiment.png', dpi = 600)\n",
    "plt.show()"
   ]
  },
  {
   "cell_type": "code",
   "execution_count": 16,
   "metadata": {},
   "outputs": [],
   "source": [
    "## R^2\n",
    "def R_squared(Y, Y_hat):\n",
    "    y_bar = np.mean(Y)\n",
    "    SSR = np.sum(np.square(Y_hat - y_bar))\n",
    "    SST = np.sum(np.square(Y - y_bar))\n",
    "    return SSR/SST"
   ]
  },
  {
   "cell_type": "code",
   "execution_count": 17,
   "metadata": {},
   "outputs": [
    {
     "name": "stdout",
     "output_type": "stream",
     "text": [
      "0.8027775342748037\n"
     ]
    }
   ],
   "source": [
    "Y_hat = A*(1/(T1[:6]))+B\n",
    "print(R_squared(AgCl[:6], Y_hat))"
   ]
  },
  {
   "cell_type": "code",
   "execution_count": null,
   "metadata": {},
   "outputs": [],
   "source": []
  }
 ],
 "metadata": {
  "kernelspec": {
   "display_name": "Python 3",
   "language": "python",
   "name": "python3"
  },
  "language_info": {
   "codemirror_mode": {
    "name": "ipython",
    "version": 3
   },
   "file_extension": ".py",
   "mimetype": "text/x-python",
   "name": "python",
   "nbconvert_exporter": "python",
   "pygments_lexer": "ipython3",
   "version": "3.7.1"
  }
 },
 "nbformat": 4,
 "nbformat_minor": 2
}
